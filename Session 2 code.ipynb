{
 "cells": [
  {
   "cell_type": "markdown",
   "id": "d93bd186",
   "metadata": {},
   "source": [
    "<h1><center>Explore the data</center></h1>"
   ]
  },
  {
   "cell_type": "code",
   "execution_count": 1,
   "id": "e042fe7a",
   "metadata": {},
   "outputs": [],
   "source": [
    "import pandas as pd"
   ]
  },
  {
   "cell_type": "code",
   "execution_count": 2,
   "id": "328183dd",
   "metadata": {},
   "outputs": [],
   "source": [
    "df = pd.read_csv(\"melb_data.csv\")"
   ]
  },
  {
   "cell_type": "code",
   "execution_count": 12,
   "id": "9dbb6d60",
   "metadata": {},
   "outputs": [
    {
     "name": "stdout",
     "output_type": "stream",
     "text": [
      "there are 13580 rows\n",
      "there are 21 columns\n"
     ]
    }
   ],
   "source": [
    "df\n",
    "#13580 rows × 21 columns\n",
    "#df.head()\n",
    "#df.tail()\n",
    "#df.head(10)\n",
    "# all these above are functions so add paranthesis\n",
    "\n",
    "#df dimensions\n",
    "df.shape\n",
    "#to get rows and columns - o/p: (13580, 21)\n",
    "#shape is not a function, it is a tuple\n",
    "df.shape[0]\n",
    "\n",
    "#use case - if we want to print\n",
    "#f string - use curly bases inside a string to add df.shape inside\n",
    "print(f\"there are {df.shape[0]} rows\")\n",
    "print(f\"there are {df.shape[1]} columns\")"
   ]
  },
  {
   "cell_type": "code",
   "execution_count": 16,
   "id": "f7ba1c7f",
   "metadata": {},
   "outputs": [
    {
     "name": "stdout",
     "output_type": "stream",
     "text": [
      "<class 'pandas.core.frame.DataFrame'>\n",
      "RangeIndex: 13580 entries, 0 to 13579\n",
      "Data columns (total 21 columns):\n",
      " #   Column         Non-Null Count  Dtype  \n",
      "---  ------         --------------  -----  \n",
      " 0   Suburb         13580 non-null  object \n",
      " 1   Address        13580 non-null  object \n",
      " 2   Rooms          13580 non-null  int64  \n",
      " 3   Type           13580 non-null  object \n",
      " 4   Price          13580 non-null  float64\n",
      " 5   Method         13580 non-null  object \n",
      " 6   SellerG        13580 non-null  object \n",
      " 7   Date           13580 non-null  object \n",
      " 8   Distance       13580 non-null  float64\n",
      " 9   Postcode       13580 non-null  float64\n",
      " 10  Bedroom2       13580 non-null  float64\n",
      " 11  Bathroom       13580 non-null  float64\n",
      " 12  Car            13518 non-null  float64\n",
      " 13  Landsize       13580 non-null  float64\n",
      " 14  BuildingArea   7130 non-null   float64\n",
      " 15  YearBuilt      8205 non-null   float64\n",
      " 16  CouncilArea    12211 non-null  object \n",
      " 17  Lattitude      13580 non-null  float64\n",
      " 18  Longtitude     13580 non-null  float64\n",
      " 19  Regionname     13580 non-null  object \n",
      " 20  Propertycount  13580 non-null  float64\n",
      "dtypes: float64(12), int64(1), object(8)\n",
      "memory usage: 2.2+ MB\n"
     ]
    }
   ],
   "source": [
    "df.info()\n",
    "#number of rows columns\n",
    "#how many non nulls\n",
    "#data tyoe of columns"
   ]
  },
  {
   "cell_type": "code",
   "execution_count": 19,
   "id": "a1cda1c2",
   "metadata": {},
   "outputs": [
    {
     "data": {
      "text/plain": [
       "Suburb              0\n",
       "Address             0\n",
       "Rooms               0\n",
       "Type                0\n",
       "Price               0\n",
       "Method              0\n",
       "SellerG             0\n",
       "Date                0\n",
       "Distance            0\n",
       "Postcode            0\n",
       "Bedroom2            0\n",
       "Bathroom            0\n",
       "Car                62\n",
       "Landsize            0\n",
       "BuildingArea     6450\n",
       "YearBuilt        5375\n",
       "CouncilArea      1369\n",
       "Lattitude           0\n",
       "Longtitude          0\n",
       "Regionname          0\n",
       "Propertycount       0\n",
       "dtype: int64"
      ]
     },
     "execution_count": 19,
     "metadata": {},
     "output_type": "execute_result"
    }
   ],
   "source": [
    "#missing values in each column\n",
    "df.isna().sum()"
   ]
  },
  {
   "cell_type": "code",
   "execution_count": 21,
   "id": "33d91705",
   "metadata": {},
   "outputs": [
    {
     "data": {
      "text/plain": [
       "13256"
      ]
     },
     "execution_count": 21,
     "metadata": {},
     "output_type": "execute_result"
    }
   ],
   "source": [
    "#how many missing values in the entire dataframe\n",
    "df.isna().sum().sum()"
   ]
  },
  {
   "cell_type": "code",
   "execution_count": 22,
   "id": "4e68bdd0",
   "metadata": {},
   "outputs": [],
   "source": [
    "#Handling missing data values - discuss in the next session in detail\n",
    "#easiest way - delete them all\n",
    "#default parameters when () is added next to a function\n",
    "#axis=0 => rows\n",
    "#axis=1 => columns\n",
    "#df.dropna() - default axis is 0\n",
    "## which means rows will be dropped. If 1 is added then columns are dropped.\n",
    "#df.dropna(axis=1)\n",
    "#how - any (drop if any NAs in the row) - all(drop only if all vlaues are NA in the row)\n",
    "\n",
    "df=df.dropna(axis=0, how='any')\n",
    "#remember to reassign after deleting NAs"
   ]
  },
  {
   "cell_type": "code",
   "execution_count": 23,
   "id": "eb023571",
   "metadata": {},
   "outputs": [
    {
     "data": {
      "text/plain": [
       "Suburb           0\n",
       "Address          0\n",
       "Rooms            0\n",
       "Type             0\n",
       "Price            0\n",
       "Method           0\n",
       "SellerG          0\n",
       "Date             0\n",
       "Distance         0\n",
       "Postcode         0\n",
       "Bedroom2         0\n",
       "Bathroom         0\n",
       "Car              0\n",
       "Landsize         0\n",
       "BuildingArea     0\n",
       "YearBuilt        0\n",
       "CouncilArea      0\n",
       "Lattitude        0\n",
       "Longtitude       0\n",
       "Regionname       0\n",
       "Propertycount    0\n",
       "dtype: int64"
      ]
     },
     "execution_count": 23,
     "metadata": {},
     "output_type": "execute_result"
    }
   ],
   "source": [
    "df.isna().sum()\n",
    "#check if it worked"
   ]
  },
  {
   "cell_type": "code",
   "execution_count": 24,
   "id": "6a2af746",
   "metadata": {},
   "outputs": [
    {
     "data": {
      "text/plain": [
       "(6196, 21)"
      ]
     },
     "execution_count": 24,
     "metadata": {},
     "output_type": "execute_result"
    }
   ],
   "source": [
    "df.shape\n",
    "#check number of rows"
   ]
  },
  {
   "cell_type": "markdown",
   "id": "483d3fe0",
   "metadata": {},
   "source": [
    "<h2>Features and Target</h2>"
   ]
  },
  {
   "cell_type": "code",
   "execution_count": 28,
   "id": "206e05c2",
   "metadata": {},
   "outputs": [
    {
     "data": {
      "text/plain": [
       "1        2\n",
       "2        3\n",
       "4        4\n",
       "6        3\n",
       "7        2\n",
       "        ..\n",
       "12205    3\n",
       "12206    3\n",
       "12207    1\n",
       "12209    2\n",
       "12212    6\n",
       "Name: Rooms, Length: 6196, dtype: int64"
      ]
     },
     "execution_count": 28,
     "metadata": {},
     "output_type": "execute_result"
    }
   ],
   "source": [
    "#Target = what we are predicting\n",
    "#Features = need to be selected as all columns cannot be used to predict\n",
    "#Focus on the numerical ones first\n",
    "\n",
    "#Pandas tutorial\n",
    "#Select one column\n",
    "#both below give same answer but 2nd one doesn't work if column name has a space\n",
    "df[\"Rooms\"]\n",
    "df.Rooms\n",
    "\n",
    "#the first column in o/p are index numbers, not row numbers. Post deletion index does not change. \n",
    "#(Also, should be starting from 0)\n",
    "#We can reset index if needed\n",
    "#Here it will be useful if we want to go back to original dataset\n"
   ]
  },
  {
   "cell_type": "code",
   "execution_count": 29,
   "id": "dc56575e",
   "metadata": {},
   "outputs": [
    {
     "data": {
      "text/html": [
       "<div>\n",
       "<style scoped>\n",
       "    .dataframe tbody tr th:only-of-type {\n",
       "        vertical-align: middle;\n",
       "    }\n",
       "\n",
       "    .dataframe tbody tr th {\n",
       "        vertical-align: top;\n",
       "    }\n",
       "\n",
       "    .dataframe thead th {\n",
       "        text-align: right;\n",
       "    }\n",
       "</style>\n",
       "<table border=\"1\" class=\"dataframe\">\n",
       "  <thead>\n",
       "    <tr style=\"text-align: right;\">\n",
       "      <th></th>\n",
       "      <th>Rooms</th>\n",
       "      <th>Bathroom</th>\n",
       "    </tr>\n",
       "  </thead>\n",
       "  <tbody>\n",
       "    <tr>\n",
       "      <th>1</th>\n",
       "      <td>2</td>\n",
       "      <td>1.0</td>\n",
       "    </tr>\n",
       "    <tr>\n",
       "      <th>2</th>\n",
       "      <td>3</td>\n",
       "      <td>2.0</td>\n",
       "    </tr>\n",
       "    <tr>\n",
       "      <th>4</th>\n",
       "      <td>4</td>\n",
       "      <td>1.0</td>\n",
       "    </tr>\n",
       "    <tr>\n",
       "      <th>6</th>\n",
       "      <td>3</td>\n",
       "      <td>2.0</td>\n",
       "    </tr>\n",
       "    <tr>\n",
       "      <th>7</th>\n",
       "      <td>2</td>\n",
       "      <td>1.0</td>\n",
       "    </tr>\n",
       "    <tr>\n",
       "      <th>...</th>\n",
       "      <td>...</td>\n",
       "      <td>...</td>\n",
       "    </tr>\n",
       "    <tr>\n",
       "      <th>12205</th>\n",
       "      <td>3</td>\n",
       "      <td>2.0</td>\n",
       "    </tr>\n",
       "    <tr>\n",
       "      <th>12206</th>\n",
       "      <td>3</td>\n",
       "      <td>1.0</td>\n",
       "    </tr>\n",
       "    <tr>\n",
       "      <th>12207</th>\n",
       "      <td>1</td>\n",
       "      <td>1.0</td>\n",
       "    </tr>\n",
       "    <tr>\n",
       "      <th>12209</th>\n",
       "      <td>2</td>\n",
       "      <td>1.0</td>\n",
       "    </tr>\n",
       "    <tr>\n",
       "      <th>12212</th>\n",
       "      <td>6</td>\n",
       "      <td>3.0</td>\n",
       "    </tr>\n",
       "  </tbody>\n",
       "</table>\n",
       "<p>6196 rows × 2 columns</p>\n",
       "</div>"
      ],
      "text/plain": [
       "       Rooms  Bathroom\n",
       "1          2       1.0\n",
       "2          3       2.0\n",
       "4          4       1.0\n",
       "6          3       2.0\n",
       "7          2       1.0\n",
       "...      ...       ...\n",
       "12205      3       2.0\n",
       "12206      3       1.0\n",
       "12207      1       1.0\n",
       "12209      2       1.0\n",
       "12212      6       3.0\n",
       "\n",
       "[6196 rows x 2 columns]"
      ]
     },
     "execution_count": 29,
     "metadata": {},
     "output_type": "execute_result"
    }
   ],
   "source": [
    "#df[] is used to access a column. If we want to access multiple colummns, we need to create a list inside df[]\n",
    "df[[\"Rooms\",\"Bathroom\"]]\n",
    "#need to add second set of [] for multiple columns to create a list"
   ]
  },
  {
   "cell_type": "code",
   "execution_count": 30,
   "id": "6f06567f",
   "metadata": {},
   "outputs": [
    {
     "data": {
      "text/plain": [
       "Index(['Suburb', 'Address', 'Rooms', 'Type', 'Price', 'Method', 'SellerG',\n",
       "       'Date', 'Distance', 'Postcode', 'Bedroom2', 'Bathroom', 'Car',\n",
       "       'Landsize', 'BuildingArea', 'YearBuilt', 'CouncilArea', 'Lattitude',\n",
       "       'Longtitude', 'Regionname', 'Propertycount'],\n",
       "      dtype='object')"
      ]
     },
     "execution_count": 30,
     "metadata": {},
     "output_type": "execute_result"
    }
   ],
   "source": [
    "df.columns"
   ]
  },
  {
   "cell_type": "code",
   "execution_count": 34,
   "id": "387d685e",
   "metadata": {},
   "outputs": [
    {
     "data": {
      "text/plain": [
       "['Rooms', 'Bathroom', 'Landsize', 'BuildingArea']"
      ]
     },
     "execution_count": 34,
     "metadata": {},
     "output_type": "execute_result"
    }
   ],
   "source": [
    "\n",
    "#Selecting features\n",
    "#create a list of column names \n",
    "\n",
    "features = ['Rooms','Bathroom','Landsize', 'BuildingArea']\n",
    "features\n",
    "#does not give o/p, need to access via df[]"
   ]
  },
  {
   "cell_type": "code",
   "execution_count": 36,
   "id": "07e9b634",
   "metadata": {},
   "outputs": [
    {
     "data": {
      "text/html": [
       "<div>\n",
       "<style scoped>\n",
       "    .dataframe tbody tr th:only-of-type {\n",
       "        vertical-align: middle;\n",
       "    }\n",
       "\n",
       "    .dataframe tbody tr th {\n",
       "        vertical-align: top;\n",
       "    }\n",
       "\n",
       "    .dataframe thead th {\n",
       "        text-align: right;\n",
       "    }\n",
       "</style>\n",
       "<table border=\"1\" class=\"dataframe\">\n",
       "  <thead>\n",
       "    <tr style=\"text-align: right;\">\n",
       "      <th></th>\n",
       "      <th>Rooms</th>\n",
       "      <th>Bathroom</th>\n",
       "      <th>Landsize</th>\n",
       "      <th>BuildingArea</th>\n",
       "    </tr>\n",
       "  </thead>\n",
       "  <tbody>\n",
       "    <tr>\n",
       "      <th>1</th>\n",
       "      <td>2</td>\n",
       "      <td>1.0</td>\n",
       "      <td>156.0</td>\n",
       "      <td>79.00</td>\n",
       "    </tr>\n",
       "    <tr>\n",
       "      <th>2</th>\n",
       "      <td>3</td>\n",
       "      <td>2.0</td>\n",
       "      <td>134.0</td>\n",
       "      <td>150.00</td>\n",
       "    </tr>\n",
       "    <tr>\n",
       "      <th>4</th>\n",
       "      <td>4</td>\n",
       "      <td>1.0</td>\n",
       "      <td>120.0</td>\n",
       "      <td>142.00</td>\n",
       "    </tr>\n",
       "    <tr>\n",
       "      <th>6</th>\n",
       "      <td>3</td>\n",
       "      <td>2.0</td>\n",
       "      <td>245.0</td>\n",
       "      <td>210.00</td>\n",
       "    </tr>\n",
       "    <tr>\n",
       "      <th>7</th>\n",
       "      <td>2</td>\n",
       "      <td>1.0</td>\n",
       "      <td>256.0</td>\n",
       "      <td>107.00</td>\n",
       "    </tr>\n",
       "    <tr>\n",
       "      <th>...</th>\n",
       "      <td>...</td>\n",
       "      <td>...</td>\n",
       "      <td>...</td>\n",
       "      <td>...</td>\n",
       "    </tr>\n",
       "    <tr>\n",
       "      <th>12205</th>\n",
       "      <td>3</td>\n",
       "      <td>2.0</td>\n",
       "      <td>972.0</td>\n",
       "      <td>149.00</td>\n",
       "    </tr>\n",
       "    <tr>\n",
       "      <th>12206</th>\n",
       "      <td>3</td>\n",
       "      <td>1.0</td>\n",
       "      <td>179.0</td>\n",
       "      <td>115.00</td>\n",
       "    </tr>\n",
       "    <tr>\n",
       "      <th>12207</th>\n",
       "      <td>1</td>\n",
       "      <td>1.0</td>\n",
       "      <td>0.0</td>\n",
       "      <td>35.64</td>\n",
       "    </tr>\n",
       "    <tr>\n",
       "      <th>12209</th>\n",
       "      <td>2</td>\n",
       "      <td>1.0</td>\n",
       "      <td>0.0</td>\n",
       "      <td>61.60</td>\n",
       "    </tr>\n",
       "    <tr>\n",
       "      <th>12212</th>\n",
       "      <td>6</td>\n",
       "      <td>3.0</td>\n",
       "      <td>1087.0</td>\n",
       "      <td>388.50</td>\n",
       "    </tr>\n",
       "  </tbody>\n",
       "</table>\n",
       "<p>6196 rows × 4 columns</p>\n",
       "</div>"
      ],
      "text/plain": [
       "       Rooms  Bathroom  Landsize  BuildingArea\n",
       "1          2       1.0     156.0         79.00\n",
       "2          3       2.0     134.0        150.00\n",
       "4          4       1.0     120.0        142.00\n",
       "6          3       2.0     245.0        210.00\n",
       "7          2       1.0     256.0        107.00\n",
       "...      ...       ...       ...           ...\n",
       "12205      3       2.0     972.0        149.00\n",
       "12206      3       1.0     179.0        115.00\n",
       "12207      1       1.0       0.0         35.64\n",
       "12209      2       1.0       0.0         61.60\n",
       "12212      6       3.0    1087.0        388.50\n",
       "\n",
       "[6196 rows x 4 columns]"
      ]
     },
     "execution_count": 36,
     "metadata": {},
     "output_type": "execute_result"
    }
   ],
   "source": [
    "X = df[features]\n",
    "X"
   ]
  },
  {
   "cell_type": "code",
   "execution_count": 37,
   "id": "ee68478a",
   "metadata": {},
   "outputs": [
    {
     "data": {
      "text/plain": [
       "1        1035000.0\n",
       "2        1465000.0\n",
       "4        1600000.0\n",
       "6        1876000.0\n",
       "7        1636000.0\n",
       "           ...    \n",
       "12205     601000.0\n",
       "12206    1050000.0\n",
       "12207     385000.0\n",
       "12209     560000.0\n",
       "12212    2450000.0\n",
       "Name: Price, Length: 6196, dtype: float64"
      ]
     },
     "execution_count": 37,
     "metadata": {},
     "output_type": "execute_result"
    }
   ],
   "source": [
    "#Target\n",
    "y = df.Price\n",
    "y"
   ]
  },
  {
   "cell_type": "markdown",
   "id": "fe5572d9",
   "metadata": {},
   "source": [
    "<h2> Building first Model: Decision Tree</h2>\n"
   ]
  },
  {
   "cell_type": "code",
   "execution_count": 39,
   "id": "4126622a",
   "metadata": {},
   "outputs": [
    {
     "data": {
      "text/plain": [
       "array([1035000., 1465000., 1600000., 1876000., 1636000.])"
      ]
     },
     "execution_count": 39,
     "metadata": {},
     "output_type": "execute_result"
    }
   ],
   "source": [
    "#Easiest ML algorithm to understand and interpret\n",
    "#DFPE\n",
    "#1)Define\n",
    "#2)Fit\n",
    "#3)Predict\n",
    "#4)Evaluate\n",
    "\n",
    "\n",
    "#***** DEFINE THE MODEL YOU ARE GOING TO BE USING ********\n",
    "\n",
    "from sklearn.tree import DecisionTreeRegressor\n",
    "\n",
    "#can name it model but gets confusing with mant models, so name it dtr for decision trees\n",
    "#random_state saves your results\n",
    "#if you want to keep the results the same, then you need to save. Nature of models is to change, if not added the results will be different everytime\n",
    "#we are going to keep doing something to the data to fit it\n",
    "#here we are using the entire dataset so even if it runs multiple times, it may remain the same\n",
    "\n",
    "dtr = DecisionTreeRegressor(random_state=1)\n",
    "\n",
    "#**** FIT THE MODEL USING THE DATA ********\n",
    "\n",
    "#supervised learning - we are using a target (labels)\n",
    "\n",
    "dtr.fit(X,y)\n",
    "\n",
    "#***** MAKE PREDICTIONS ******\n",
    "\n",
    "#Lets use the first 5 rows of X\n",
    "dtr.predict(X.head())\n",
    "\n"
   ]
  },
  {
   "cell_type": "code",
   "execution_count": 41,
   "id": "7da56ffd",
   "metadata": {},
   "outputs": [
    {
     "data": {
      "text/plain": [
       "[1035000.0, 1465000.0, 1600000.0, 1876000.0, 1636000.0]"
      ]
     },
     "execution_count": 41,
     "metadata": {},
     "output_type": "execute_result"
    }
   ],
   "source": [
    "#how to compare this with actual data\n",
    "#y.head()\n",
    "list(y.head())"
   ]
  },
  {
   "cell_type": "markdown",
   "id": "fbf2d137",
   "metadata": {},
   "source": [
    "<h2>HOMEWORK</h2>"
   ]
  },
  {
   "cell_type": "code",
   "execution_count": null,
   "id": "d3302a49",
   "metadata": {},
   "outputs": [],
   "source": [
    "#create cheatsheet with all functions only\n",
    "#Answer questions 1 and 2\n",
    "#Do decision tree modelling on train dataset"
   ]
  }
 ],
 "metadata": {
  "kernelspec": {
   "display_name": "Python 3 (ipykernel)",
   "language": "python",
   "name": "python3"
  },
  "language_info": {
   "codemirror_mode": {
    "name": "ipython",
    "version": 3
   },
   "file_extension": ".py",
   "mimetype": "text/x-python",
   "name": "python",
   "nbconvert_exporter": "python",
   "pygments_lexer": "ipython3",
   "version": "3.9.12"
  }
 },
 "nbformat": 4,
 "nbformat_minor": 5
}
